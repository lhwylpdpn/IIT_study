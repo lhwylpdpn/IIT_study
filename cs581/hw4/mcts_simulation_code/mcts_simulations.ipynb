{
 "cells": [
  {
   "cell_type": "code",
   "execution_count": 1,
   "metadata": {
    "pycharm": {
     "name": "#%%\n"
    }
   },
   "outputs": [
    {
     "ename": "ModuleNotFoundError",
     "evalue": "No module named 'mcts_sim_functions'",
     "output_type": "error",
     "traceback": [
      "\u001B[0;31m---------------------------------------------------------------------------\u001B[0m",
      "\u001B[0;31mModuleNotFoundError\u001B[0m                       Traceback (most recent call last)",
      "\u001B[0;32m/tmp/ipykernel_8407/986026120.py\u001B[0m in \u001B[0;36m<module>\u001B[0;34m\u001B[0m\n\u001B[1;32m      6\u001B[0m \u001B[0;32mimport\u001B[0m \u001B[0mpandas\u001B[0m \u001B[0;32mas\u001B[0m \u001B[0mpd\u001B[0m\u001B[0;34m\u001B[0m\u001B[0;34m\u001B[0m\u001B[0m\n\u001B[1;32m      7\u001B[0m \u001B[0;34m\u001B[0m\u001B[0m\n\u001B[0;32m----> 8\u001B[0;31m \u001B[0;32mfrom\u001B[0m \u001B[0mmcts_sim_functions\u001B[0m \u001B[0;32mimport\u001B[0m \u001B[0msimulate_mcts\u001B[0m\u001B[0;34m,\u001B[0m \u001B[0msimulate_mcts_gp\u001B[0m\u001B[0;34m\u001B[0m\u001B[0;34m\u001B[0m\u001B[0m\n\u001B[0m\u001B[1;32m      9\u001B[0m \u001B[0;34m\u001B[0m\u001B[0m\n\u001B[1;32m     10\u001B[0m \u001B[0;32mimport\u001B[0m \u001B[0mmatplotlib\u001B[0m\u001B[0;34m.\u001B[0m\u001B[0mpyplot\u001B[0m \u001B[0;32mas\u001B[0m \u001B[0mplt\u001B[0m\u001B[0;34m\u001B[0m\u001B[0;34m\u001B[0m\u001B[0m\n",
      "\u001B[0;31mModuleNotFoundError\u001B[0m: No module named 'mcts_sim_functions'"
     ]
    }
   ],
   "source": [
    "from collections import defaultdict\n",
    "from itertools import repeat\n",
    "from multiprocessing import Pool\n",
    "\n",
    "import numpy as np\n",
    "import pandas as pd\n",
    "\n",
    "from mcts_sim_functions import simulate_mcts, simulate_mcts_gp\n",
    "\n",
    "import matplotlib.pyplot as plt\n",
    "from matplotlib import pylab\n",
    "pylab.rcParams['figure.figsize'] = (10.0, 8.0)"
   ]
  },
  {
   "cell_type": "code",
   "execution_count": null,
   "metadata": {
    "pycharm": {
     "name": "#%%\n"
    }
   },
   "outputs": [],
   "source": [
    "CWID='A12345678' # TODO Change to your own A#.\n",
    "\n",
    "simul_seed = int(CWID[1:]) "
   ]
  },
  {
   "cell_type": "markdown",
   "metadata": {
    "pycharm": {
     "name": "#%% md\n"
    }
   },
   "source": [
    "# Explore the Exploration"
   ]
  },
  {
   "attachments": {},
   "cell_type": "markdown",
   "metadata": {
    "pycharm": {
     "name": "#%% md\n"
    }
   },
   "source": [
    "$$v=C\\times \\sqrt{\\frac{ln(parent.N+\\alpha)}{node.N+\\alpha}}$$\n",
    "\n",
    "Assume $C=1$ and $\\alpha=1$.\n",
    "\n",
    "$parent.N=0, node.N=0 \\Rightarrow v=0$\n",
    "\n",
    "$parent.N=1, node.N=0 \\Rightarrow v \\approx 0.83$\n",
    "\n",
    "$parent.N=2, node.N=0 \\Rightarrow v \\approx 1.05$\n",
    "\n",
    "$parent.N=1, node.N=1 \\Rightarrow v \\approx 0.59$\n"
   ]
  },
  {
   "cell_type": "code",
   "execution_count": null,
   "metadata": {
    "pycharm": {
     "name": "#%%\n"
    }
   },
   "outputs": [],
   "source": [
    "def ucb_explore(child_N, parent_N, C = 1.4, alpha = 1):    \n",
    "    return C * np.sqrt(np.log(parent_N+alpha)/(child_N+alpha))"
   ]
  },
  {
   "cell_type": "code",
   "execution_count": null,
   "metadata": {
    "pycharm": {
     "name": "#%%\n"
    }
   },
   "outputs": [],
   "source": [
    "pd.set_option(\"display.precision\", 3)"
   ]
  },
  {
   "cell_type": "code",
   "execution_count": null,
   "metadata": {
    "pycharm": {
     "name": "#%%\n"
    }
   },
   "outputs": [],
   "source": [
    "df = pd.DataFrame(None, columns=['parentN', 'childN', 'v'])\n",
    "\n",
    "parent_Ns = range(5)\n",
    "for parent_N in parent_Ns:\n",
    "    for child_N in range(parent_N+1):\n",
    "        v=ucb_explore(child_N, parent_N, C=1)\n",
    "        df.loc[len(df.index)] = [parent_N, child_N, v]"
   ]
  },
  {
   "cell_type": "code",
   "execution_count": null,
   "metadata": {
    "pycharm": {
     "name": "#%%\n"
    }
   },
   "outputs": [],
   "source": [
    "df"
   ]
  },
  {
   "cell_type": "markdown",
   "metadata": {
    "pycharm": {
     "name": "#%% md\n"
    }
   },
   "source": [
    "## Understanding the Log Function"
   ]
  },
  {
   "cell_type": "code",
   "execution_count": null,
   "metadata": {
    "pycharm": {
     "name": "#%%\n"
    }
   },
   "outputs": [],
   "source": [
    "max_parent_N = 5000\n",
    "\n",
    "_, ax = plt.subplots()\n",
    "ax.plot(range(1, max_parent_N, 100), np.log(range(1, max_parent_N, 100)), linewidth=3, c='k')\n",
    "ax.set_ylabel(\"ln(N)\")\n",
    "ax.set_xlabel(\"N\")"
   ]
  },
  {
   "cell_type": "code",
   "execution_count": null,
   "metadata": {
    "pycharm": {
     "name": "#%%\n"
    }
   },
   "outputs": [],
   "source": [
    "df = pd.DataFrame(None, columns=['parentN', 'childN', 'v'])\n",
    "\n",
    "parent_N_exps = range(5)\n",
    "\n",
    "child_N = 1\n",
    "\n",
    "for parent_N_exp in parent_N_exps:\n",
    "\n",
    "    parent_N = np.power(10, parent_N_exp)\n",
    "\n",
    "    v=ucb_explore(child_N, parent_N, C=1)\n",
    "    df.loc[len(df.index)] = [parent_N, child_N, v]"
   ]
  },
  {
   "cell_type": "code",
   "execution_count": null,
   "metadata": {
    "pycharm": {
     "name": "#%%\n"
    }
   },
   "outputs": [],
   "source": [
    "df"
   ]
  },
  {
   "cell_type": "code",
   "execution_count": null,
   "metadata": {
    "pycharm": {
     "name": "#%%\n"
    }
   },
   "outputs": [],
   "source": [
    "child_Ns = [0, 1, 2]\n",
    "\n",
    "max_parent_N = 5000\n",
    "\n",
    "_, axs = plt.subplots(nrows=1, ncols=len(child_Ns), figsize=(15, 3.3))\n",
    "\n",
    "for i in range(len(child_Ns)):\n",
    "\n",
    "    res = [ucb_explore(child_Ns[i], parent_N, C=1) for parent_N in range(1, max_parent_N, 100)]\n",
    "    axs[i].plot(range(1, max_parent_N, 100), res, linewidth=3, c='k')\n",
    "    axs[i].set_ylabel(\"Explore value\")\n",
    "    axs[i].set_xlabel(\"Parent N\")\n",
    "    axs[i].set_title(\"Child N = {}\".format(child_Ns[i]))"
   ]
  },
  {
   "cell_type": "markdown",
   "metadata": {
    "pycharm": {
     "name": "#%% md\n"
    }
   },
   "source": [
    "## Parent N versus Child N"
   ]
  },
  {
   "cell_type": "code",
   "execution_count": null,
   "metadata": {
    "pycharm": {
     "name": "#%%\n"
    }
   },
   "outputs": [],
   "source": [
    "nx1 = nx2 = 200\n",
    "x1_min = x2_min = 0\n",
    "x1_max = 10\n",
    "x2_max = 20\n",
    "xx1, xx2 = np.meshgrid(np.linspace(x1_min, x1_max, nx1), np.linspace(x2_min, x2_max, nx2))\n",
    "D=np.c_[xx1.ravel(), xx2.ravel()]"
   ]
  },
  {
   "cell_type": "code",
   "execution_count": null,
   "metadata": {
    "pycharm": {
     "name": "#%%\n"
    }
   },
   "outputs": [],
   "source": [
    "Cs = [0.5, 1, 2]\n",
    "\n",
    "_, axs = plt.subplots(nrows=1, ncols=len(Cs), figsize=(10, 3.3))\n",
    "\n",
    "for i in range(len(Cs)):\n",
    "\n",
    "    v = np.asarray([ucb_explore(d[0], d[1], C=Cs[i]) for d in D])\n",
    "    v = v.reshape(xx1.shape)\n",
    "\n",
    "    axs[i].contour(xx1, xx2, v, [0.25, 0.5, 1], linewidths=3., colors=['g', 'b', 'r'])\n",
    "    #axs[i].set_ylabel(\"Parent N\")\n",
    "    axs[i].set_xlabel(\"Child N\")\n",
    "    axs[i].set_title(\"C= {}\".format(Cs[i]))"
   ]
  },
  {
   "cell_type": "code",
   "execution_count": null,
   "metadata": {
    "pycharm": {
     "name": "#%%\n"
    }
   },
   "outputs": [],
   "source": [
    "# Min parent.N needed to match a target v\n",
    "def min_parentN(target_v, child_N, C, alpha=1):\n",
    "    return np.exp((target_v**2 * (child_N+alpha))/(C**2))-alpha"
   ]
  },
  {
   "cell_type": "code",
   "execution_count": null,
   "metadata": {
    "pycharm": {
     "name": "#%%\n"
    }
   },
   "outputs": [],
   "source": [
    "target_vs = [0.25, 0.5, 0.75, 1]\n",
    "child_Ns = range(6)\n",
    "Cs = [0.5, 1, 2, 3]\n",
    "\n",
    "_, axs = plt.subplots(nrows=len(target_vs), ncols=len(Cs), figsize=(7*len(Cs), 7*len(target_vs)))\n",
    "\n",
    "for i in range(len(target_vs)):\n",
    "\n",
    "    axs[i][0].set_ylabel(\"Target v = {}\".format(target_vs[i]))\n",
    "\n",
    "    for j in range(len(Cs)):\n",
    "        v = [min_parentN(target_vs[i], child_N, Cs[j]) for child_N in child_Ns]\n",
    "        axs[i][j].plot(child_Ns, v, linewidth=2)\n",
    "        axs[i][j].set_xlabel(\"Child N\")\n",
    "        axs[i][j].set_title(\"C={}\".format(Cs[j]))\n"
   ]
  },
  {
   "cell_type": "markdown",
   "metadata": {
    "pycharm": {
     "name": "#%% md\n"
    }
   },
   "source": [
    "# Tree Stats"
   ]
  },
  {
   "cell_type": "code",
   "execution_count": null,
   "metadata": {
    "pycharm": {
     "name": "#%%\n"
    }
   },
   "outputs": [],
   "source": [
    "def ave_table(results, key):\n",
    "    res = {}\n",
    "    for c in results.keys():\n",
    "        res[c] = {}\n",
    "        for max_iter in results[c].keys():\n",
    "            res[c][max_iter] = np.mean(results[c][max_iter][key])\n",
    "    return res"
   ]
  },
  {
   "cell_type": "code",
   "execution_count": null,
   "metadata": {
    "pycharm": {
     "name": "#%%\n"
    }
   },
   "outputs": [],
   "source": [
    "def join_results(mp_res):\n",
    "    full_results = {}\n",
    "    for k1 in mp_res[0]:\n",
    "        full_results[k1] = {}\n",
    "        for k2 in mp_res[0][k1]:\n",
    "            full_results[k1][k2] = defaultdict(list)\n",
    "    \n",
    "    for res in mp_res:\n",
    "        for k1 in res:\n",
    "            for k2 in res[k1]:\n",
    "                for k3 in res[k1][k2]:\n",
    "                    full_results[k1][k2][k3].append(res[k1][k2][k3])\n",
    "    \n",
    "    return full_results"
   ]
  },
  {
   "cell_type": "code",
   "execution_count": null,
   "metadata": {
    "pycharm": {
     "name": "#%%\n"
    }
   },
   "outputs": [],
   "source": [
    "def print_results(results):\n",
    "    measures = []\n",
    "    _Cs = list(results.keys())\n",
    "    _max_iters = list(results[_Cs[0]].keys())\n",
    "    measures = results[_Cs[0]][_max_iters[0]].keys()\n",
    "\n",
    "    for k in measures:\n",
    "        res_table = pd.DataFrame(ave_table(results, k))\n",
    "        res_table.columns = ['C={}'.format(i) for i in _Cs]\n",
    "        res_table.index = ['Max Iter={}'.format(i) for i in _max_iters]\n",
    "        print(k)\n",
    "        print(res_table)\n",
    "        print()"
   ]
  },
  {
   "cell_type": "code",
   "execution_count": null,
   "metadata": {
    "pycharm": {
     "name": "#%%\n"
    }
   },
   "outputs": [],
   "source": [
    "# Parameters used for all simulations below.\n",
    "max_iters = [100, 500, 1000]\n",
    "Cs = [0, 0.5, 1, 2]\n",
    "seeds = list(range(19))+[simul_seed]"
   ]
  },
  {
   "cell_type": "markdown",
   "metadata": {
    "pycharm": {
     "name": "#%% md\n"
    }
   },
   "source": [
    "## TTT"
   ]
  },
  {
   "cell_type": "code",
   "execution_count": null,
   "metadata": {
    "pycharm": {
     "name": "#%%\n"
    }
   },
   "outputs": [],
   "source": [
    "%%time\n",
    "n_processes = None # Uses all available.\n",
    "\n",
    "mp_res = None\n",
    "\n",
    "with Pool(n_processes) as p:\n",
    "    mp_res = p.starmap(simulate_mcts, zip(repeat(\"ttt\"), repeat(Cs), seeds, repeat(max_iters)))"
   ]
  },
  {
   "cell_type": "code",
   "execution_count": null,
   "metadata": {
    "pycharm": {
     "name": "#%%\n"
    }
   },
   "outputs": [],
   "source": [
    "results = join_results(mp_res)\n",
    "print_results(results)"
   ]
  },
  {
   "cell_type": "markdown",
   "metadata": {
    "pycharm": {
     "name": "#%% md\n"
    }
   },
   "source": [
    "## C4"
   ]
  },
  {
   "cell_type": "code",
   "execution_count": null,
   "metadata": {
    "pycharm": {
     "name": "#%%\n"
    }
   },
   "outputs": [],
   "source": [
    "%%time\n",
    "n_processes = None # Uses all available.\n",
    "\n",
    "mp_res = None\n",
    "\n",
    "with Pool(n_processes) as p:\n",
    "    mp_res = p.starmap(simulate_mcts, zip(repeat(\"c4\"), repeat(Cs), seeds, repeat(max_iters)))"
   ]
  },
  {
   "cell_type": "code",
   "execution_count": null,
   "metadata": {
    "pycharm": {
     "name": "#%%\n"
    }
   },
   "outputs": [],
   "source": [
    "results = join_results(mp_res)\n",
    "print_results(results)"
   ]
  },
  {
   "cell_type": "markdown",
   "metadata": {
    "pycharm": {
     "name": "#%% md\n"
    }
   },
   "source": [
    "# Game Play"
   ]
  },
  {
   "cell_type": "markdown",
   "metadata": {
    "pycharm": {
     "name": "#%% md\n"
    }
   },
   "source": [
    "## TTT"
   ]
  },
  {
   "cell_type": "code",
   "execution_count": null,
   "metadata": {
    "pycharm": {
     "name": "#%%\n"
    }
   },
   "outputs": [],
   "source": [
    "%%time\n",
    "\n",
    "n_processes = None # Uses all available.\n",
    "\n",
    "mp_res = None\n",
    "\n",
    "xp = 'mcts'\n",
    "op = 'random'\n",
    "\n",
    "with Pool(n_processes) as p:\n",
    "    mp_res = p.starmap(simulate_mcts_gp, zip(repeat(\"ttt\"), repeat(xp), repeat(op),  repeat(Cs), seeds, repeat(max_iters)))"
   ]
  },
  {
   "cell_type": "code",
   "execution_count": null,
   "metadata": {
    "pycharm": {
     "name": "#%%\n"
    }
   },
   "outputs": [],
   "source": [
    "results = join_results(mp_res)\n",
    "print_results(results)"
   ]
  },
  {
   "cell_type": "code",
   "execution_count": null,
   "metadata": {
    "pycharm": {
     "name": "#%%\n"
    }
   },
   "outputs": [],
   "source": [
    "%%time\n",
    "\n",
    "n_processes = None # Uses all available.\n",
    "\n",
    "mp_res = None\n",
    "\n",
    "xp = 'mcts'\n",
    "op = 'alpha_beta'\n",
    "\n",
    "with Pool(n_processes) as p:\n",
    "    mp_res = p.starmap(simulate_mcts_gp, zip(repeat(\"ttt\"), repeat(xp), repeat(op),  repeat(Cs), seeds, repeat(max_iters)))\n"
   ]
  },
  {
   "cell_type": "code",
   "execution_count": null,
   "metadata": {
    "pycharm": {
     "name": "#%%\n"
    }
   },
   "outputs": [],
   "source": [
    "results = join_results(mp_res)\n",
    "print_results(results)"
   ]
  },
  {
   "cell_type": "code",
   "execution_count": null,
   "metadata": {
    "pycharm": {
     "name": "#%%\n"
    }
   },
   "outputs": [],
   "source": [
    "%%time\n",
    "\n",
    "n_processes = None # Uses all available.\n",
    "\n",
    "mp_res = None\n",
    "\n",
    "xp = 'alpha_beta'\n",
    "op = 'mcts'\n",
    "\n",
    "with Pool(n_processes) as p:\n",
    "    mp_res = p.starmap(simulate_mcts_gp, zip(repeat(\"ttt\"), repeat(xp), repeat(op),  repeat(Cs), seeds, repeat(max_iters)))\n"
   ]
  },
  {
   "cell_type": "code",
   "execution_count": null,
   "metadata": {
    "pycharm": {
     "name": "#%%\n"
    }
   },
   "outputs": [],
   "source": [
    "results = join_results(mp_res)\n",
    "print_results(results)"
   ]
  },
  {
   "cell_type": "code",
   "execution_count": null,
   "metadata": {
    "pycharm": {
     "name": "#%%\n"
    }
   },
   "outputs": [],
   "source": [
    "%%time\n",
    "\n",
    "n_processes = None # Uses all available.\n",
    "\n",
    "mp_res = None\n",
    "\n",
    "xp = 'mcts'\n",
    "op = 'mcts_base'\n",
    "\n",
    "with Pool(n_processes) as p:\n",
    "    mp_res = p.starmap(simulate_mcts_gp, zip(repeat(\"ttt\"), repeat(xp), repeat(op),  repeat(Cs), seeds, repeat(max_iters), repeat({'C':0.5, 'max_iter':500})))"
   ]
  },
  {
   "cell_type": "code",
   "execution_count": null,
   "metadata": {
    "pycharm": {
     "name": "#%%\n"
    }
   },
   "outputs": [],
   "source": [
    "results = join_results(mp_res)\n",
    "print_results(results)"
   ]
  },
  {
   "cell_type": "code",
   "execution_count": null,
   "metadata": {
    "pycharm": {
     "name": "#%%\n"
    }
   },
   "outputs": [],
   "source": [
    "%%time\n",
    "\n",
    "n_processes = None # Uses all available.\n",
    "\n",
    "mp_res = None\n",
    "\n",
    "xp = 'mcts_base'\n",
    "op = 'mcts'\n",
    "\n",
    "with Pool(n_processes) as p:\n",
    "    mp_res = p.starmap(simulate_mcts_gp, zip(repeat(\"ttt\"), repeat(xp), repeat(op),  repeat(Cs), seeds, repeat(max_iters), repeat({'C':0.5, 'max_iter':500})))"
   ]
  },
  {
   "cell_type": "code",
   "execution_count": null,
   "metadata": {
    "pycharm": {
     "name": "#%%\n"
    }
   },
   "outputs": [],
   "source": [
    "results = join_results(mp_res)\n",
    "print_results(results)"
   ]
  },
  {
   "cell_type": "markdown",
   "metadata": {
    "pycharm": {
     "name": "#%% md\n"
    }
   },
   "source": [
    "## C4"
   ]
  },
  {
   "cell_type": "code",
   "execution_count": null,
   "metadata": {
    "pycharm": {
     "name": "#%%\n"
    }
   },
   "outputs": [],
   "source": [
    "%%time\n",
    "\n",
    "n_processes = None # Uses all available.\n",
    "\n",
    "mp_res = None\n",
    "\n",
    "xp = 'mcts'\n",
    "op = 'random'\n",
    "\n",
    "with Pool(n_processes) as p:\n",
    "    mp_res = p.starmap(simulate_mcts_gp, zip(repeat(\"c4\"), repeat(xp), repeat(op),  repeat(Cs), seeds, repeat(max_iters)))"
   ]
  },
  {
   "cell_type": "code",
   "execution_count": null,
   "metadata": {
    "pycharm": {
     "name": "#%%\n"
    }
   },
   "outputs": [],
   "source": [
    "results = join_results(mp_res)\n",
    "print_results(results)"
   ]
  },
  {
   "cell_type": "code",
   "execution_count": null,
   "metadata": {
    "pycharm": {
     "name": "#%%\n"
    }
   },
   "outputs": [],
   "source": [
    "%%time\n",
    "\n",
    "n_processes = None # Uses all available.\n",
    "\n",
    "mp_res = None\n",
    "\n",
    "xp = 'mcts'\n",
    "op = 'mcts_base'\n",
    "\n",
    "with Pool(n_processes) as p:\n",
    "    mp_res = p.starmap(simulate_mcts_gp, zip(repeat(\"c4\"), repeat(xp), repeat(op),  repeat(Cs), seeds, repeat(max_iters), repeat({'C':0.5, 'max_iter':500})))"
   ]
  },
  {
   "cell_type": "code",
   "execution_count": null,
   "metadata": {
    "pycharm": {
     "name": "#%%\n"
    }
   },
   "outputs": [],
   "source": [
    "results = join_results(mp_res)\n",
    "print_results(results)"
   ]
  },
  {
   "cell_type": "code",
   "execution_count": null,
   "metadata": {
    "pycharm": {
     "name": "#%%\n"
    }
   },
   "outputs": [],
   "source": [
    "%%time\n",
    "\n",
    "n_processes = None # Uses all available.\n",
    "\n",
    "mp_res = None\n",
    "\n",
    "xp = 'mcts_base'\n",
    "op = 'mcts'\n",
    "\n",
    "with Pool(n_processes) as p:\n",
    "    mp_res = p.starmap(simulate_mcts_gp, zip(repeat(\"c4\"), repeat(xp), repeat(op),  repeat(Cs), seeds, repeat(max_iters), repeat({'C':0.5, 'max_iter':500})))"
   ]
  },
  {
   "cell_type": "code",
   "execution_count": null,
   "metadata": {
    "pycharm": {
     "name": "#%%\n"
    }
   },
   "outputs": [],
   "source": [
    "results = join_results(mp_res)\n",
    "print_results(results)"
   ]
  }
 ],
 "metadata": {
  "kernelspec": {
   "display_name": "cs581-env",
   "language": "python",
   "name": "python3"
  },
  "language_info": {
   "codemirror_mode": {
    "name": "ipython",
    "version": 3
   },
   "file_extension": ".py",
   "mimetype": "text/x-python",
   "name": "python",
   "nbconvert_exporter": "python",
   "pygments_lexer": "ipython3",
   "version": "3.10.9"
  },
  "orig_nbformat": 4,
  "vscode": {
   "interpreter": {
    "hash": "5bf0836cf30b3417dade6f227c79780e6fe1db5bcdba7b36229f57db615848bf"
   }
  }
 },
 "nbformat": 4,
 "nbformat_minor": 2
}