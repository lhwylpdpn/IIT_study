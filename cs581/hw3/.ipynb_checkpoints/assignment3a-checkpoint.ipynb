{
 "cells": [
  {
   "cell_type": "markdown",
   "metadata": {
    "pycharm": {
     "name": "#%% md\n"
    }
   },
   "source": [
    "# Assignment 3A\n",
    "\n",
    "In this assigment, you will implement and test Monte Carlo Tree Search.\n",
    "\n",
    "**TODO:** \n",
    "\n",
    "1. Enter your information below.\n",
    "1. Rename `mcts_search_assigned.py` to `mcts_search.py`.\n",
    "1. Complete the implementation of `mcts` in `mcts_search.py`.\n",
    "1. Change the default A# from 'A12345678' to your own number.\n",
    "1. Run all code.\n",
    "1. Create a pdf version of the notebook.\n",
    "1. Submit `mcts_search.py`, `assignment3a.pdf`, and `assignment3a.ipynb`. Do not zip them; attach and submit three separate files."
   ]
  },
  {
   "cell_type": "markdown",
   "metadata": {
    "pycharm": {
     "name": "#%% md\n"
    }
   },
   "source": [
    "Enter your information below.\n",
    "\n",
    "**Name:** HaoLiu <br>\n",
    "**CWID:** A20473685"
   ]
  },
  {
   "cell_type": "code",
   "execution_count": 1,
   "metadata": {
    "pycharm": {
     "name": "#%%\n"
    },
    "scrolled": true
   },
   "outputs": [],
   "source": [
    "from game_boards import MNKNode, ConnectFour, DictGameNode\n",
    "from game_search import alpha_beta_search\n",
    "from game_play import maxplayer, randplayer, game_play\n",
    "from mcts_search import mcts\n",
    "from mcts_utils import ucb1, mcts_player, dot_graph, dot_graph_path\n",
    "\n",
    "from IPython.display import Image"
   ]
  },
  {
   "cell_type": "code",
   "execution_count": 2,
   "metadata": {
    "pycharm": {
     "name": "#%%\n"
    },
    "scrolled": true
   },
   "outputs": [],
   "source": [
    "def create_empty_ttt():\n",
    "    empty_board = []\n",
    "\n",
    "    for _ in range(3):\n",
    "        empty_board.append(['-', '-', '-'])\n",
    "\n",
    "    return MNKNode(empty_board, k = 3)"
   ]
  },
  {
   "cell_type": "code",
   "execution_count": 3,
   "metadata": {
    "pycharm": {
     "name": "#%%\n"
    },
    "scrolled": true
   },
   "outputs": [],
   "source": [
    "def create_empty_c4():\n",
    "    empty_board = []\n",
    "\n",
    "    for _ in range(6):\n",
    "        empty_board.append(['-', '-', '-', '-', '-', '-', '-'])\n",
    "\n",
    "    return ConnectFour(board=empty_board)"
   ]
  },
  {
   "cell_type": "code",
   "execution_count": 4,
   "metadata": {
    "pycharm": {
     "name": "#%%\n"
    },
    "scrolled": true
   },
   "outputs": [],
   "source": [
    "moves = {'A': ['B', 'C', 'D'], 'B': ['E', 'F', 'G'], 'C': ['H', 'I'], 'D': ['J', 'K', 'L'], 'K': ['M', 'N']}\n",
    "\n",
    "terminal_nodes = {'E': 0.5, 'F': +1, 'G': 0.5, 'H': +1, 'I': 0, 'J': +1, 'L': +1, 'M': 0, 'N': +1}\n",
    "\n",
    "DictGameNode._moves = moves\n",
    "DictGameNode._terminal_nodes = terminal_nodes\n",
    "\n",
    "dg_initial_gn = DictGameNode(board = 'A', np = 'X')"
   ]
  },
  {
   "cell_type": "code",
   "execution_count": 5,
   "metadata": {
    "pycharm": {
     "name": "#%%\n"
    },
    "scrolled": true
   },
   "outputs": [],
   "source": [
    "CWID='A20473685' # TODO Change to your own A#.\n",
    "\n",
    "simul_seed = int(CWID[1:])\n"
   ]
  },
  {
   "cell_type": "markdown",
   "metadata": {
    "pycharm": {
     "name": "#%% md\n"
    }
   },
   "source": [
    "# Testing out MCTS"
   ]
  },
  {
   "cell_type": "markdown",
   "metadata": {
    "pycharm": {
     "name": "#%% md\n"
    }
   },
   "source": [
    "## Dictionary Game"
   ]
  },
  {
   "cell_type": "code",
   "execution_count": 6,
   "metadata": {
    "pycharm": {
     "name": "#%%\n"
    }
   },
   "outputs": [
    {
     "name": "stdout",
     "output_type": "stream",
     "text": [
      "not terminal\n",
      "选择的是 C\n",
      "U/N: 0/0\n",
      "not terminal\n",
      "选择的是 I\n",
      "U/N: 0/0\n",
      "util 0\n",
      "not terminal\n",
      "选择的是 E\n",
      "U/N: 0/0\n",
      "util -0.5\n",
      "not terminal\n",
      "选择的是 J\n",
      "U/N: 0/0\n",
      "util -1\n",
      "terminal\n",
      "util -1\n",
      "terminal\n",
      "util -1\n",
      "not terminal\n",
      "选择的是 N\n",
      "U/N: 0/0\n",
      "util -1\n",
      "terminal\n",
      "util 0\n",
      "terminal\n",
      "util 0\n",
      "terminal\n",
      "util 0\n",
      "terminal\n",
      "util -0.5\n",
      "terminal\n",
      "util 0\n",
      "terminal\n",
      "util -1\n",
      "terminal\n",
      "util -1\n",
      "terminal\n",
      "util -0.5\n",
      "terminal\n",
      "util 0\n",
      "terminal\n",
      "util 0\n",
      "terminal\n",
      "util -0.5\n",
      "terminal\n",
      "util 0\n",
      "terminal\n",
      "util 0\n",
      "terminal\n",
      "util 0\n",
      "terminal\n",
      "util 0\n",
      "terminal\n",
      "util 0\n",
      "terminal\n",
      "util -1\n",
      "terminal\n",
      "util 0\n",
      "terminal\n",
      "util -1\n",
      "terminal\n",
      "util -1\n",
      "terminal\n",
      "util 0\n",
      "terminal\n",
      "util 0\n",
      "terminal\n",
      "util 0\n",
      "terminal\n",
      "util 0\n",
      "terminal\n",
      "util 0\n",
      "terminal\n",
      "util 0\n",
      "terminal\n",
      "util -0.5\n",
      "terminal\n",
      "util 0\n",
      "terminal\n",
      "util 0\n",
      "terminal\n",
      "util 0\n",
      "terminal\n",
      "util 0\n",
      "terminal\n",
      "util 0\n",
      "terminal\n",
      "util -1\n",
      "terminal\n",
      "util 0\n",
      "terminal\n",
      "util -1\n",
      "terminal\n",
      "util -0.5\n",
      "terminal\n",
      "util 0\n",
      "terminal\n",
      "util 0\n",
      "terminal\n",
      "util 0\n",
      "terminal\n",
      "util 0\n",
      "terminal\n",
      "util -0.5\n",
      "terminal\n",
      "util 0\n",
      "terminal\n",
      "util 0\n",
      "terminal\n",
      "util 0\n",
      "A\n",
      "U/N: -14.5/50\n",
      "graph my_graph {\n",
      "a [label=\"a\"];\n",
      "b [label=\"b\"];\n",
      "c [label=\"c\"];\n",
      "a -- b  [color=blue];\n",
      "b -- c  [color=blue];\n",
      "\"\\n\";\n",
      "}\n",
      "\n"
     ]
    },
    {
     "ename": "FileNotFoundError",
     "evalue": "[Errno 2] \"dot\" not found in path.",
     "output_type": "error",
     "traceback": [
      "\u001b[0;31m---------------------------------------------------------------------------\u001b[0m",
      "\u001b[0;31mFileNotFoundError\u001b[0m                         Traceback (most recent call last)",
      "\u001b[0;32m/Library/Frameworks/Python.framework/Versions/3.7/lib/python3.7/site-packages/pydot.py\u001b[0m in \u001b[0;36mcreate\u001b[0;34m(self, prog, format, encoding)\u001b[0m\n\u001b[1;32m   1925\u001b[0m                 \u001b[0marguments\u001b[0m\u001b[0;34m=\u001b[0m\u001b[0marguments\u001b[0m\u001b[0;34m,\u001b[0m\u001b[0;34m\u001b[0m\u001b[0;34m\u001b[0m\u001b[0m\n\u001b[0;32m-> 1926\u001b[0;31m                 \u001b[0mworking_dir\u001b[0m\u001b[0;34m=\u001b[0m\u001b[0mtmp_dir\u001b[0m\u001b[0;34m,\u001b[0m\u001b[0;34m\u001b[0m\u001b[0;34m\u001b[0m\u001b[0m\n\u001b[0m\u001b[1;32m   1927\u001b[0m             )\n",
      "\u001b[0;32m/Library/Frameworks/Python.framework/Versions/3.7/lib/python3.7/site-packages/pydot.py\u001b[0m in \u001b[0;36mcall_graphviz\u001b[0;34m(program, arguments, working_dir, **kwargs)\u001b[0m\n\u001b[1;32m    138\u001b[0m         \u001b[0mstdout\u001b[0m\u001b[0;34m=\u001b[0m\u001b[0msubprocess\u001b[0m\u001b[0;34m.\u001b[0m\u001b[0mPIPE\u001b[0m\u001b[0;34m,\u001b[0m\u001b[0;34m\u001b[0m\u001b[0;34m\u001b[0m\u001b[0m\n\u001b[0;32m--> 139\u001b[0;31m         \u001b[0;34m**\u001b[0m\u001b[0mkwargs\u001b[0m\u001b[0;34m\u001b[0m\u001b[0;34m\u001b[0m\u001b[0m\n\u001b[0m\u001b[1;32m    140\u001b[0m     )\n",
      "\u001b[0;32m/Library/Frameworks/Python.framework/Versions/3.7/lib/python3.7/subprocess.py\u001b[0m in \u001b[0;36m__init__\u001b[0;34m(self, args, bufsize, executable, stdin, stdout, stderr, preexec_fn, close_fds, shell, cwd, env, universal_newlines, startupinfo, creationflags, restore_signals, start_new_session, pass_fds, encoding, errors, text)\u001b[0m\n\u001b[1;32m    799\u001b[0m                                 \u001b[0merrread\u001b[0m\u001b[0;34m,\u001b[0m \u001b[0merrwrite\u001b[0m\u001b[0;34m,\u001b[0m\u001b[0;34m\u001b[0m\u001b[0;34m\u001b[0m\u001b[0m\n\u001b[0;32m--> 800\u001b[0;31m                                 restore_signals, start_new_session)\n\u001b[0m\u001b[1;32m    801\u001b[0m         \u001b[0;32mexcept\u001b[0m\u001b[0;34m:\u001b[0m\u001b[0;34m\u001b[0m\u001b[0;34m\u001b[0m\u001b[0m\n",
      "\u001b[0;32m/Library/Frameworks/Python.framework/Versions/3.7/lib/python3.7/subprocess.py\u001b[0m in \u001b[0;36m_execute_child\u001b[0;34m(self, args, executable, preexec_fn, close_fds, pass_fds, cwd, env, startupinfo, creationflags, shell, p2cread, p2cwrite, c2pread, c2pwrite, errread, errwrite, restore_signals, start_new_session)\u001b[0m\n\u001b[1;32m   1550\u001b[0m                             \u001b[0merr_msg\u001b[0m \u001b[0;34m+=\u001b[0m \u001b[0;34m': '\u001b[0m \u001b[0;34m+\u001b[0m \u001b[0mrepr\u001b[0m\u001b[0;34m(\u001b[0m\u001b[0merr_filename\u001b[0m\u001b[0;34m)\u001b[0m\u001b[0;34m\u001b[0m\u001b[0;34m\u001b[0m\u001b[0m\n\u001b[0;32m-> 1551\u001b[0;31m                     \u001b[0;32mraise\u001b[0m \u001b[0mchild_exception_type\u001b[0m\u001b[0;34m(\u001b[0m\u001b[0merrno_num\u001b[0m\u001b[0;34m,\u001b[0m \u001b[0merr_msg\u001b[0m\u001b[0;34m,\u001b[0m \u001b[0merr_filename\u001b[0m\u001b[0;34m)\u001b[0m\u001b[0;34m\u001b[0m\u001b[0;34m\u001b[0m\u001b[0m\n\u001b[0m\u001b[1;32m   1552\u001b[0m                 \u001b[0;32mraise\u001b[0m \u001b[0mchild_exception_type\u001b[0m\u001b[0;34m(\u001b[0m\u001b[0merr_msg\u001b[0m\u001b[0;34m)\u001b[0m\u001b[0;34m\u001b[0m\u001b[0;34m\u001b[0m\u001b[0m\n",
      "\u001b[0;31mFileNotFoundError\u001b[0m: [Errno 2] No such file or directory: 'dot': 'dot'",
      "\nDuring handling of the above exception, another exception occurred:\n",
      "\u001b[0;31mFileNotFoundError\u001b[0m                         Traceback (most recent call last)",
      "\u001b[0;32m/tmp/ipykernel_78325/1333107240.py\u001b[0m in \u001b[0;36m<module>\u001b[0;34m\u001b[0m\n\u001b[1;32m     17\u001b[0m \u001b[0mpydot_graph\u001b[0m \u001b[0;34m=\u001b[0m \u001b[0mpydot\u001b[0m\u001b[0;34m.\u001b[0m\u001b[0mgraph_from_dot_data\u001b[0m\u001b[0;34m(\u001b[0m\u001b[0mdot_string\u001b[0m\u001b[0;34m)\u001b[0m\u001b[0;34m[\u001b[0m\u001b[0;36m0\u001b[0m\u001b[0;34m]\u001b[0m\u001b[0;34m\u001b[0m\u001b[0;34m\u001b[0m\u001b[0m\n\u001b[1;32m     18\u001b[0m \u001b[0mprint\u001b[0m\u001b[0;34m(\u001b[0m\u001b[0mpydot_graph\u001b[0m\u001b[0;34m)\u001b[0m\u001b[0;34m\u001b[0m\u001b[0;34m\u001b[0m\u001b[0m\n\u001b[0;32m---> 19\u001b[0;31m \u001b[0mImage\u001b[0m\u001b[0;34m(\u001b[0m\u001b[0mpydot_graph\u001b[0m\u001b[0;34m.\u001b[0m\u001b[0mcreate_png\u001b[0m\u001b[0;34m(\u001b[0m\u001b[0;34m)\u001b[0m\u001b[0;34m)\u001b[0m\u001b[0;34m\u001b[0m\u001b[0;34m\u001b[0m\u001b[0m\n\u001b[0m",
      "\u001b[0;32m/Library/Frameworks/Python.framework/Versions/3.7/lib/python3.7/site-packages/pydot.py\u001b[0m in \u001b[0;36mnew_method\u001b[0;34m(f, prog, encoding)\u001b[0m\n\u001b[1;32m   1732\u001b[0m                 \u001b[0;34m\"\"\"Refer to docstring of method `create`.\"\"\"\u001b[0m\u001b[0;34m\u001b[0m\u001b[0;34m\u001b[0m\u001b[0m\n\u001b[1;32m   1733\u001b[0m                 return self.create(\n\u001b[0;32m-> 1734\u001b[0;31m                     format=f, prog=prog, encoding=encoding)\n\u001b[0m\u001b[1;32m   1735\u001b[0m             \u001b[0mname\u001b[0m \u001b[0;34m=\u001b[0m \u001b[0;34m'create_{fmt}'\u001b[0m\u001b[0;34m.\u001b[0m\u001b[0mformat\u001b[0m\u001b[0;34m(\u001b[0m\u001b[0mfmt\u001b[0m\u001b[0;34m=\u001b[0m\u001b[0mfrmt\u001b[0m\u001b[0;34m)\u001b[0m\u001b[0;34m\u001b[0m\u001b[0;34m\u001b[0m\u001b[0m\n\u001b[1;32m   1736\u001b[0m             \u001b[0mself\u001b[0m\u001b[0;34m.\u001b[0m\u001b[0m__setattr__\u001b[0m\u001b[0;34m(\u001b[0m\u001b[0mname\u001b[0m\u001b[0;34m,\u001b[0m \u001b[0mnew_method\u001b[0m\u001b[0;34m)\u001b[0m\u001b[0;34m\u001b[0m\u001b[0;34m\u001b[0m\u001b[0m\n",
      "\u001b[0;32m/Library/Frameworks/Python.framework/Versions/3.7/lib/python3.7/site-packages/pydot.py\u001b[0m in \u001b[0;36mcreate\u001b[0;34m(self, prog, format, encoding)\u001b[0m\n\u001b[1;32m   1931\u001b[0m                 args[1] = '\"{prog}\" not found in path.'.format(\n\u001b[1;32m   1932\u001b[0m                     prog=prog)\n\u001b[0;32m-> 1933\u001b[0;31m                 \u001b[0;32mraise\u001b[0m \u001b[0mOSError\u001b[0m\u001b[0;34m(\u001b[0m\u001b[0;34m*\u001b[0m\u001b[0margs\u001b[0m\u001b[0;34m)\u001b[0m\u001b[0;34m\u001b[0m\u001b[0;34m\u001b[0m\u001b[0m\n\u001b[0m\u001b[1;32m   1934\u001b[0m             \u001b[0;32melse\u001b[0m\u001b[0;34m:\u001b[0m\u001b[0;34m\u001b[0m\u001b[0;34m\u001b[0m\u001b[0m\n\u001b[1;32m   1935\u001b[0m                 \u001b[0;32mraise\u001b[0m\u001b[0;34m\u001b[0m\u001b[0;34m\u001b[0m\u001b[0m\n",
      "\u001b[0;31mFileNotFoundError\u001b[0m: [Errno 2] \"dot\" not found in path."
     ]
    }
   ],
   "source": [
    "dg_root_mcnode = mcts(dg_initial_gn, ucb1, seed='12345678', max_iter=50)\n",
    "print(dg_root_mcnode)\n",
    "pydot_graph = dot_graph(dg_root_mcnode)\n",
    "#print(pydot_graph)\n",
    "#测试下pydot\n",
    "import pydot\n",
    "pydot_graph = pydot.graph_from_dot_data(pydot_graph.to_string())[0]\n",
    "#print(pydot_graph)\n",
    "\n",
    "\n",
    "dot_string=\"\"\" graph my_graph {\n",
    "a [label=\"a\"];\n",
    "b [label=\"b\"];\n",
    "c [label=\"c\"];\n",
    "a--b--c[color=blue];\n",
    "}\"\"\"\n",
    "pydot_graph = pydot.graph_from_dot_data(dot_string)[0]\n",
    "print(pydot_graph)\n",
    "Image(pydot_graph.create_png())"
   ]
  },
  {
   "cell_type": "code",
   "execution_count": 1,
   "metadata": {
    "pycharm": {
     "name": "#%%\n"
    }
   },
   "outputs": [
    {
     "ename": "NameError",
     "evalue": "name 'dot_graph_path' is not defined",
     "output_type": "error",
     "traceback": [
      "\u001b[0;31m---------------------------------------------------------------------------\u001b[0m",
      "\u001b[0;31mNameError\u001b[0m                                 Traceback (most recent call last)",
      "\u001b[0;32m/var/folders/nk/xdmth_s11dn1yy4s5hzc4dkr0000gn/T/ipykernel_21335/123045138.py\u001b[0m in \u001b[0;36m<module>\u001b[0;34m\u001b[0m\n\u001b[0;32m----> 1\u001b[0;31m \u001b[0mpydot_graph\u001b[0m \u001b[0;34m=\u001b[0m \u001b[0mdot_graph_path\u001b[0m\u001b[0;34m(\u001b[0m\u001b[0mdg_root_mcnode\u001b[0m\u001b[0;34m)\u001b[0m\u001b[0;34m\u001b[0m\u001b[0;34m\u001b[0m\u001b[0m\n\u001b[0m\u001b[1;32m      2\u001b[0m \u001b[0mImage\u001b[0m\u001b[0;34m(\u001b[0m\u001b[0mpydot_graph\u001b[0m\u001b[0;34m.\u001b[0m\u001b[0mcreate_png\u001b[0m\u001b[0;34m(\u001b[0m\u001b[0;34m)\u001b[0m\u001b[0;34m)\u001b[0m\u001b[0;34m\u001b[0m\u001b[0;34m\u001b[0m\u001b[0m\n",
      "\u001b[0;31mNameError\u001b[0m: name 'dot_graph_path' is not defined"
     ]
    }
   ],
   "source": [
    "\n",
    "pydot_graph = dot_graph_path(dg_root_mcnode)\n",
    "Image(pydot_graph.create_png())"
   ]
  },
  {
   "cell_type": "markdown",
   "metadata": {
    "pycharm": {
     "name": "#%% md\n"
    }
   },
   "source": [
    "## Tic-Tac-Toe"
   ]
  },
  {
   "cell_type": "code",
   "execution_count": null,
   "metadata": {
    "pycharm": {
     "name": "#%%\n"
    },
    "scrolled": true
   },
   "outputs": [],
   "source": [
    "ttt_initial_gn = create_empty_ttt()\n"
   ]
  },
  {
   "cell_type": "markdown",
   "metadata": {
    "pycharm": {
     "name": "#%% md\n"
    }
   },
   "source": [
    "### C=1.4"
   ]
  },
  {
   "cell_type": "code",
   "execution_count": null,
   "metadata": {
    "pycharm": {
     "name": "#%%\n"
    },
    "scrolled": true
   },
   "outputs": [],
   "source": [
    "util_f = lambda mcnode: ucb1(mcnode, C=1.4)"
   ]
  },
  {
   "cell_type": "code",
   "execution_count": null,
   "metadata": {
    "pycharm": {
     "name": "#%%\n"
    },
    "scrolled": true
   },
   "outputs": [],
   "source": [
    "ttt_root_mcnode = mcts(ttt_initial_gn, util_f, seed=simul_seed, max_iter=1000)"
   ]
  },
  {
   "cell_type": "code",
   "execution_count": null,
   "metadata": {
    "pycharm": {
     "name": "#%%\n"
    },
    "scrolled": true
   },
   "outputs": [],
   "source": [
    "pydot_graph = dot_graph(ttt_root_mcnode, max_nodes = 10)\n",
    "Image(pydot_graph.create_png())"
   ]
  },
  {
   "cell_type": "code",
   "execution_count": null,
   "metadata": {
    "pycharm": {
     "name": "#%%\n"
    }
   },
   "outputs": [],
   "source": [
    "pydot_graph = dot_graph_path(ttt_root_mcnode)\n",
    "Image(pydot_graph.create_png())"
   ]
  },
  {
   "cell_type": "markdown",
   "metadata": {
    "pycharm": {
     "name": "#%% md\n"
    }
   },
   "source": [
    "### C=0"
   ]
  },
  {
   "cell_type": "code",
   "execution_count": null,
   "metadata": {
    "pycharm": {
     "name": "#%%\n"
    },
    "scrolled": true
   },
   "outputs": [],
   "source": [
    "util_f = lambda mcnode: ucb1(mcnode, C=0)"
   ]
  },
  {
   "cell_type": "code",
   "execution_count": null,
   "metadata": {
    "pycharm": {
     "name": "#%%\n"
    },
    "scrolled": true
   },
   "outputs": [],
   "source": [
    "ttt_root_mcnode = mcts(ttt_initial_gn, util_f, seed=simul_seed, max_iter=1000)"
   ]
  },
  {
   "cell_type": "code",
   "execution_count": null,
   "metadata": {
    "pycharm": {
     "name": "#%%\n"
    },
    "scrolled": true
   },
   "outputs": [],
   "source": [
    "pydot_graph = dot_graph(ttt_root_mcnode, max_nodes = 10)\n",
    "Image(pydot_graph.create_png())"
   ]
  },
  {
   "cell_type": "code",
   "execution_count": null,
   "metadata": {
    "pycharm": {
     "name": "#%%\n"
    }
   },
   "outputs": [],
   "source": [
    "pydot_graph = dot_graph_path(ttt_root_mcnode)\n",
    "Image(pydot_graph.create_png())"
   ]
  },
  {
   "cell_type": "markdown",
   "metadata": {
    "pycharm": {
     "name": "#%% md\n"
    }
   },
   "source": [
    "## Connect 4"
   ]
  },
  {
   "cell_type": "code",
   "execution_count": null,
   "metadata": {
    "pycharm": {
     "name": "#%%\n"
    },
    "scrolled": true
   },
   "outputs": [],
   "source": [
    "c4_initial_gn = create_empty_c4()"
   ]
  },
  {
   "cell_type": "markdown",
   "metadata": {
    "pycharm": {
     "name": "#%% md\n"
    }
   },
   "source": [
    "### C=1.4"
   ]
  },
  {
   "cell_type": "code",
   "execution_count": null,
   "metadata": {
    "pycharm": {
     "name": "#%%\n"
    },
    "scrolled": true
   },
   "outputs": [],
   "source": [
    "util_f = lambda mcnode: ucb1(mcnode, C=1.4)"
   ]
  },
  {
   "cell_type": "code",
   "execution_count": null,
   "metadata": {
    "pycharm": {
     "name": "#%%\n"
    },
    "scrolled": true
   },
   "outputs": [],
   "source": [
    "c4_root_mcnode = mcts(c4_initial_gn, util_f, seed=simul_seed, max_iter=1000)"
   ]
  },
  {
   "cell_type": "code",
   "execution_count": null,
   "metadata": {
    "pycharm": {
     "name": "#%%\n"
    }
   },
   "outputs": [],
   "source": [
    "pydot_graph = dot_graph(c4_root_mcnode, max_nodes = 8)\n",
    "Image(pydot_graph.create_png())"
   ]
  },
  {
   "cell_type": "code",
   "execution_count": null,
   "metadata": {
    "pycharm": {
     "name": "#%%\n"
    },
    "scrolled": false
   },
   "outputs": [],
   "source": [
    "pydot_graph = dot_graph_path(c4_root_mcnode)\n",
    "Image(pydot_graph.create_png())"
   ]
  },
  {
   "cell_type": "markdown",
   "metadata": {
    "pycharm": {
     "name": "#%% md\n"
    }
   },
   "source": [
    "### C = 0"
   ]
  },
  {
   "cell_type": "code",
   "execution_count": null,
   "metadata": {
    "pycharm": {
     "name": "#%%\n"
    },
    "scrolled": true
   },
   "outputs": [],
   "source": [
    "util_f = lambda mcnode: ucb1(mcnode, C=0)"
   ]
  },
  {
   "cell_type": "code",
   "execution_count": null,
   "metadata": {
    "pycharm": {
     "name": "#%%\n"
    },
    "scrolled": true
   },
   "outputs": [],
   "source": [
    "c4_root_mcnode = mcts(c4_initial_gn, util_f, seed=simul_seed, max_iter=1000)"
   ]
  },
  {
   "cell_type": "code",
   "execution_count": null,
   "metadata": {
    "pycharm": {
     "name": "#%%\n"
    }
   },
   "outputs": [],
   "source": [
    "pydot_graph = dot_graph(c4_root_mcnode, max_nodes = 8)\n",
    "Image(pydot_graph.create_png())"
   ]
  },
  {
   "cell_type": "code",
   "execution_count": null,
   "metadata": {
    "pycharm": {
     "name": "#%%\n"
    },
    "scrolled": false
   },
   "outputs": [],
   "source": [
    "pydot_graph = dot_graph_path(c4_root_mcnode)\n",
    "Image(pydot_graph.create_png())"
   ]
  },
  {
   "cell_type": "markdown",
   "metadata": {
    "pycharm": {
     "name": "#%% md\n"
    }
   },
   "source": [
    "# MCTS vs Random Player"
   ]
  },
  {
   "cell_type": "code",
   "execution_count": null,
   "metadata": {
    "pycharm": {
     "name": "#%%\n"
    }
   },
   "outputs": [],
   "source": [
    "util_f = lambda mcnode: ucb1(mcnode, C=1.4)\n",
    "\n",
    "x_player = lambda b:  mcts_player(b, util_f, seed = simul_seed, max_iter=1000)\n",
    "o_player = lambda b: randplayer(b, seed=0)\n",
    "\n",
    "game_play(ttt_initial_gn, x_player, o_player)"
   ]
  },
  {
   "cell_type": "code",
   "execution_count": null,
   "metadata": {
    "pycharm": {
     "name": "#%%\n"
    }
   },
   "outputs": [],
   "source": [
    "util_f = lambda mcnode: ucb1(mcnode, C=1.4)\n",
    "\n",
    "x_player = lambda b:  mcts_player(b, util_f, seed = simul_seed, max_iter=1000)\n",
    "o_player = lambda b: randplayer(b, seed=0)\n",
    "\n",
    "game_play(c4_initial_gn, x_player, o_player)"
   ]
  },
  {
   "cell_type": "markdown",
   "metadata": {
    "pycharm": {
     "name": "#%% md\n"
    }
   },
   "source": [
    "# MCTS vs Alpha-Beta"
   ]
  },
  {
   "cell_type": "code",
   "execution_count": null,
   "metadata": {
    "pycharm": {
     "name": "#%%\n"
    }
   },
   "outputs": [],
   "source": [
    "util_f = lambda mcnode: ucb1(mcnode, C=1.4)\n",
    "\n",
    "x_player = lambda b:  mcts_player(b, util_f, seed = simul_seed, max_iter=1000)\n",
    "o_player = lambda b: maxplayer(b, algo=alpha_beta_search)\n",
    "\n",
    "game_play(ttt_initial_gn, x_player, o_player)"
   ]
  },
  {
   "cell_type": "code",
   "execution_count": null,
   "metadata": {
    "pycharm": {
     "name": "#%%\n"
    }
   },
   "outputs": [],
   "source": [
    "util_f = lambda mcnode: ucb1(mcnode, C=1.4)\n",
    "\n",
    "\n",
    "x_player = lambda b: maxplayer(b, algo=alpha_beta_search)\n",
    "o_player = lambda b:  mcts_player(b, util_f, seed = simul_seed, max_iter=1000)\n",
    "\n",
    "game_play(ttt_initial_gn, x_player, o_player)"
   ]
  },
  {
   "cell_type": "code",
   "execution_count": null,
   "metadata": {
    "pycharm": {
     "name": "#%%\n"
    },
    "scrolled": true
   },
   "outputs": [],
   "source": []
  }
 ],
 "metadata": {
  "kernelspec": {
   "display_name": "Python 3 (ipykernel)",
   "language": "python",
   "name": "python3"
  },
  "language_info": {
   "codemirror_mode": {
    "name": "ipython",
    "version": 3
   },
   "file_extension": ".py",
   "mimetype": "text/x-python",
   "name": "python",
   "nbconvert_exporter": "python",
   "pygments_lexer": "ipython3",
   "version": "3.7.7"
  },
  "vscode": {
   "interpreter": {
    "hash": "5bf0836cf30b3417dade6f227c79780e6fe1db5bcdba7b36229f57db615848bf"
   }
  }
 },
 "nbformat": 4,
 "nbformat_minor": 2
}
