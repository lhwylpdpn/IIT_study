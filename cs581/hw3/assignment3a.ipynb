{
 "cells": [
  {
   "cell_type": "markdown",
   "metadata": {},
   "source": [
    "# Assignment 3A\n",
    "\n",
    "In this assigment, you will implement and test Monte Carlo Tree Search.\n",
    "\n",
    "**TODO:** \n",
    "\n",
    "1. Enter your information below.\n",
    "1. Rename `mcts_search_assigned.py` to `mcts_search.py`.\n",
    "1. Complete the implementation of `mcts` in `mcts_search.py`.\n",
    "1. Change the default A# from 'A12345678' to your own number.\n",
    "1. Run all code.\n",
    "1. Create a pdf version of the notebook.\n",
    "1. Submit `mcts_search.py`, `assignment3a.pdf`, and `assignment3a.ipynb`. Do not zip them; attach and submit three separate files."
   ]
  },
  {
   "cell_type": "markdown",
   "metadata": {},
   "source": [
    "Enter your information below.\n",
    "\n",
    "**Name:** ... <br>\n",
    "**CWID:** ..."
   ]
  },
  {
   "cell_type": "code",
   "execution_count": null,
   "metadata": {
    "scrolled": true
   },
   "outputs": [],
   "source": [
    "from game_boards import MNKNode, ConnectFour, DictGameNode\n",
    "from game_search import alpha_beta_search\n",
    "from game_play import maxplayer, randplayer, game_play\n",
    "from mcts_search import mcts\n",
    "from mcts_utils import ucb1, mcts_player, dot_graph, dot_graph_path\n",
    "\n",
    "from IPython.display import Image"
   ]
  },
  {
   "cell_type": "code",
   "execution_count": null,
   "metadata": {
    "scrolled": true
   },
   "outputs": [],
   "source": [
    "def create_empty_ttt():\n",
    "    empty_board = []\n",
    "\n",
    "    for _ in range(3):\n",
    "        empty_board.append(['-', '-', '-'])\n",
    "\n",
    "    return MNKNode(empty_board, k = 3)"
   ]
  },
  {
   "cell_type": "code",
   "execution_count": null,
   "metadata": {
    "scrolled": true
   },
   "outputs": [],
   "source": [
    "def create_empty_c4():\n",
    "    empty_board = []\n",
    "\n",
    "    for _ in range(6):\n",
    "        empty_board.append(['-', '-', '-', '-', '-', '-', '-'])\n",
    "\n",
    "    return ConnectFour(board=empty_board)"
   ]
  },
  {
   "cell_type": "code",
   "execution_count": null,
   "metadata": {
    "scrolled": true
   },
   "outputs": [],
   "source": [
    "moves = {'A': ['B', 'C', 'D'], 'B': ['E', 'F', 'G'], 'C': ['H', 'I'], 'D': ['J', 'K', 'L'], 'K': ['M', 'N']}\n",
    "\n",
    "terminal_nodes = {'E': 0.5, 'F': +1, 'G': 0.5, 'H': +1, 'I': 0, 'J': +1, 'L': +1, 'M': 0, 'N': +1}\n",
    "\n",
    "DictGameNode._moves = moves\n",
    "DictGameNode._terminal_nodes = terminal_nodes\n",
    "\n",
    "dg_initial_gn = DictGameNode(board = 'A', np = 'X')"
   ]
  },
  {
   "cell_type": "code",
   "execution_count": null,
   "metadata": {
    "scrolled": true
   },
   "outputs": [],
   "source": [
    "CWID='A12345678' # TODO Change to your own A#.\n",
    "\n",
    "simul_seed = int(CWID[1:]) "
   ]
  },
  {
   "cell_type": "markdown",
   "metadata": {},
   "source": [
    "# Testing out MCTS"
   ]
  },
  {
   "cell_type": "markdown",
   "metadata": {},
   "source": [
    "## Dictionary Game"
   ]
  },
  {
   "cell_type": "code",
   "execution_count": null,
   "metadata": {
    "scrolled": true
   },
   "outputs": [],
   "source": [
    "dg_root_mcnode = mcts(dg_initial_gn, ucb1, seed=simul_seed, max_iter=50)\n",
    "pydot_graph = dot_graph(dg_root_mcnode)\n",
    "Image(pydot_graph.create_png())"
   ]
  },
  {
   "cell_type": "code",
   "execution_count": null,
   "metadata": {},
   "outputs": [],
   "source": [
    "pydot_graph = dot_graph_path(dg_root_mcnode)\n",
    "Image(pydot_graph.create_png())"
   ]
  },
  {
   "cell_type": "markdown",
   "metadata": {},
   "source": [
    "## Tic-Tac-Toe"
   ]
  },
  {
   "cell_type": "code",
   "execution_count": null,
   "metadata": {
    "scrolled": true
   },
   "outputs": [],
   "source": [
    "ttt_initial_gn = create_empty_ttt()\n"
   ]
  },
  {
   "cell_type": "markdown",
   "metadata": {},
   "source": [
    "### C=1.4"
   ]
  },
  {
   "cell_type": "code",
   "execution_count": null,
   "metadata": {
    "scrolled": true
   },
   "outputs": [],
   "source": [
    "util_f = lambda mcnode: ucb1(mcnode, C=1.4)"
   ]
  },
  {
   "cell_type": "code",
   "execution_count": null,
   "metadata": {
    "scrolled": true
   },
   "outputs": [],
   "source": [
    "ttt_root_mcnode = mcts(ttt_initial_gn, util_f, seed=simul_seed, max_iter=1000)"
   ]
  },
  {
   "cell_type": "code",
   "execution_count": null,
   "metadata": {
    "scrolled": true
   },
   "outputs": [],
   "source": [
    "pydot_graph = dot_graph(ttt_root_mcnode, max_nodes = 10)\n",
    "Image(pydot_graph.create_png())"
   ]
  },
  {
   "cell_type": "code",
   "execution_count": null,
   "metadata": {},
   "outputs": [],
   "source": [
    "pydot_graph = dot_graph_path(ttt_root_mcnode)\n",
    "Image(pydot_graph.create_png())"
   ]
  },
  {
   "cell_type": "markdown",
   "metadata": {},
   "source": [
    "### C=0"
   ]
  },
  {
   "cell_type": "code",
   "execution_count": null,
   "metadata": {
    "scrolled": true
   },
   "outputs": [],
   "source": [
    "util_f = lambda mcnode: ucb1(mcnode, C=0)"
   ]
  },
  {
   "cell_type": "code",
   "execution_count": null,
   "metadata": {
    "scrolled": true
   },
   "outputs": [],
   "source": [
    "ttt_root_mcnode = mcts(ttt_initial_gn, util_f, seed=simul_seed, max_iter=1000)"
   ]
  },
  {
   "cell_type": "code",
   "execution_count": null,
   "metadata": {
    "scrolled": true
   },
   "outputs": [],
   "source": [
    "pydot_graph = dot_graph(ttt_root_mcnode, max_nodes = 10)\n",
    "Image(pydot_graph.create_png())"
   ]
  },
  {
   "cell_type": "code",
   "execution_count": null,
   "metadata": {},
   "outputs": [],
   "source": [
    "pydot_graph = dot_graph_path(ttt_root_mcnode)\n",
    "Image(pydot_graph.create_png())"
   ]
  },
  {
   "cell_type": "markdown",
   "metadata": {},
   "source": [
    "## Connect 4"
   ]
  },
  {
   "cell_type": "code",
   "execution_count": null,
   "metadata": {
    "scrolled": true
   },
   "outputs": [],
   "source": [
    "c4_initial_gn = create_empty_c4()"
   ]
  },
  {
   "cell_type": "markdown",
   "metadata": {},
   "source": [
    "### C=1.4"
   ]
  },
  {
   "cell_type": "code",
   "execution_count": null,
   "metadata": {
    "scrolled": true
   },
   "outputs": [],
   "source": [
    "util_f = lambda mcnode: ucb1(mcnode, C=1.4)"
   ]
  },
  {
   "cell_type": "code",
   "execution_count": null,
   "metadata": {
    "scrolled": true
   },
   "outputs": [],
   "source": [
    "c4_root_mcnode = mcts(c4_initial_gn, util_f, seed=simul_seed, max_iter=1000)"
   ]
  },
  {
   "cell_type": "code",
   "execution_count": null,
   "metadata": {},
   "outputs": [],
   "source": [
    "pydot_graph = dot_graph(c4_root_mcnode, max_nodes = 8)\n",
    "Image(pydot_graph.create_png())"
   ]
  },
  {
   "cell_type": "code",
   "execution_count": null,
   "metadata": {
    "scrolled": false
   },
   "outputs": [],
   "source": [
    "pydot_graph = dot_graph_path(c4_root_mcnode)\n",
    "Image(pydot_graph.create_png())"
   ]
  },
  {
   "cell_type": "markdown",
   "metadata": {},
   "source": [
    "### C = 0"
   ]
  },
  {
   "cell_type": "code",
   "execution_count": null,
   "metadata": {
    "scrolled": true
   },
   "outputs": [],
   "source": [
    "util_f = lambda mcnode: ucb1(mcnode, C=0)"
   ]
  },
  {
   "cell_type": "code",
   "execution_count": null,
   "metadata": {
    "scrolled": true
   },
   "outputs": [],
   "source": [
    "c4_root_mcnode = mcts(c4_initial_gn, util_f, seed=simul_seed, max_iter=1000)"
   ]
  },
  {
   "cell_type": "code",
   "execution_count": null,
   "metadata": {},
   "outputs": [],
   "source": [
    "pydot_graph = dot_graph(c4_root_mcnode, max_nodes = 8)\n",
    "Image(pydot_graph.create_png())"
   ]
  },
  {
   "cell_type": "code",
   "execution_count": null,
   "metadata": {
    "scrolled": false
   },
   "outputs": [],
   "source": [
    "pydot_graph = dot_graph_path(c4_root_mcnode)\n",
    "Image(pydot_graph.create_png())"
   ]
  },
  {
   "cell_type": "markdown",
   "metadata": {},
   "source": [
    "# MCTS vs Random Player"
   ]
  },
  {
   "cell_type": "code",
   "execution_count": null,
   "metadata": {},
   "outputs": [],
   "source": [
    "util_f = lambda mcnode: ucb1(mcnode, C=1.4)\n",
    "\n",
    "x_player = lambda b:  mcts_player(b, util_f, seed = simul_seed, max_iter=1000)\n",
    "o_player = lambda b: randplayer(b, seed=0)\n",
    "\n",
    "game_play(ttt_initial_gn, x_player, o_player)"
   ]
  },
  {
   "cell_type": "code",
   "execution_count": null,
   "metadata": {},
   "outputs": [],
   "source": [
    "util_f = lambda mcnode: ucb1(mcnode, C=1.4)\n",
    "\n",
    "x_player = lambda b:  mcts_player(b, util_f, seed = simul_seed, max_iter=1000)\n",
    "o_player = lambda b: randplayer(b, seed=0)\n",
    "\n",
    "game_play(c4_initial_gn, x_player, o_player)"
   ]
  },
  {
   "cell_type": "markdown",
   "metadata": {},
   "source": [
    "# MCTS vs Alpha-Beta"
   ]
  },
  {
   "cell_type": "code",
   "execution_count": null,
   "metadata": {},
   "outputs": [],
   "source": [
    "util_f = lambda mcnode: ucb1(mcnode, C=1.4)\n",
    "\n",
    "x_player = lambda b:  mcts_player(b, util_f, seed = simul_seed, max_iter=1000)\n",
    "o_player = lambda b: maxplayer(b, algo=alpha_beta_search)\n",
    "\n",
    "game_play(ttt_initial_gn, x_player, o_player)"
   ]
  },
  {
   "cell_type": "code",
   "execution_count": null,
   "metadata": {},
   "outputs": [],
   "source": [
    "util_f = lambda mcnode: ucb1(mcnode, C=1.4)\n",
    "\n",
    "\n",
    "x_player = lambda b: maxplayer(b, algo=alpha_beta_search)\n",
    "o_player = lambda b:  mcts_player(b, util_f, seed = simul_seed, max_iter=1000)\n",
    "\n",
    "game_play(ttt_initial_gn, x_player, o_player)"
   ]
  },
  {
   "cell_type": "code",
   "execution_count": null,
   "metadata": {
    "scrolled": true
   },
   "outputs": [],
   "source": []
  }
 ],
 "metadata": {
  "kernelspec": {
   "display_name": "Python 3 (ipykernel)",
   "language": "python",
   "name": "python3"
  },
  "language_info": {
   "codemirror_mode": {
    "name": "ipython",
    "version": 3
   },
   "file_extension": ".py",
   "mimetype": "text/x-python",
   "name": "python",
   "nbconvert_exporter": "python",
   "pygments_lexer": "ipython3",
   "version": "3.7.16"
  },
  "vscode": {
   "interpreter": {
    "hash": "5bf0836cf30b3417dade6f227c79780e6fe1db5bcdba7b36229f57db615848bf"
   }
  }
 },
 "nbformat": 4,
 "nbformat_minor": 2
}
